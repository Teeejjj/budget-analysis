





import pandas as pd
import numpy as np
from sqlalchemy import create_engine

import emoji
import re

import matplotlib.pyplot as plt
import seaborn as sns
import plotly.express as px 

from datetime import date, time, timedelta, datetime
from dateutil.relativedelta import relativedelta

import warnings
warnings.filterwarnings('ignore')
pd.set_option('display.max_columns', None)





try:
    conn = create_engine('sqlite:///money_android.sqlite')
    try:
        display(pd.read_sql('SELECT name AS tables FROM sqlite_master WHERE type="table"', conn))
    except Exception as e:
        print(f'Error Retrieving data: {e}')
except Exception as e:
    print(f'Database connection fail : {e}')


# pd.read_sql('select * from INOUTCOME', conn)





bdgt_tbl = pd.read_sql('select * from INOUTCOME', conn)
cat_tbl = pd.read_sql('select * from ZCATEGORY', conn)
asset_tbl = pd.read_sql('select * from ASSETS', conn)

display(bdgt_tbl, cat_tbl, asset_tbl)


# bdgt_tbl[bdgt_tbl['DO_TYPE']=='0']
# bdgt_tbl['DO_TYPE'].unique()





# --- Mapping the categories and assets -- #
cat_dict = dict(zip(cat_tbl['uid'], cat_tbl['NAME']))
asset_dict = dict(zip(asset_tbl['uid'], asset_tbl['NIC_NAME']))
do_dict = {'0':'Income', '1':'Expense', '3':'Transfer From', '4':'Transfer To'}

bdgt_tbl['Category'] = bdgt_tbl['ctgUid'].map(cat_dict)
bdgt_tbl['Assets'] = bdgt_tbl['assetUid'].map(asset_dict)
bdgt_tbl['Fin_Transaction'] = bdgt_tbl['DO_TYPE'].map(do_dict)


final_bdg = bdgt_tbl[['uid', 'Fin_Transaction', 'Assets', 'Category', 'ZCONTENT', 'WDATE', 'IN_ZMONEY']]
final_bdg.rename(columns= {'ZCONTENT':'Notes', 'WDATE':'Dates', 'IN_ZMONEY':'Amount'}, inplace=True)





final_bdg.info()


final_bdg


# final_bdg[final_bdg['DO_TYPE'] == '3']





def convert_dtype(df):
    df['Dates'] = pd.to_datetime(df['Dates'], format="%Y-%m-%d", errors='coerce')
    df['Amount'] = df.Amount.astype(float)
    return df
def preprocess(df):
    # --- Converting empty spaces to None --- #
    df = df.applymap(lambda x: x.strip() if isinstance(x, str) and x.strip() != '' else (None if isinstance(x, str) else x))
    # --- Textual Cleaning --- # 
    def remove_emojis(textdata):
        if isinstance(textdata, str):
            if textdata is not None:
                return emoji.replace_emoji(textdata,replace='').strip()
        return textdata
    df['Category'] = df['Category'].apply(remove_emojis)
    return df


sample = final_bdg.copy(deep = True)
 
sample = convert_dtype(sample)
sample = preprocess(sample)
sample.sort_values('Dates', inplace=True)
sample['Months'] = sample['Dates'].dt.month_name()
sample= sample[['uid', 'Fin_Transaction', 'Assets', 'Category', 'Notes', 'Months', 'Dates', 'Amount']]
display(sample.info(), sample)


jan = sample[(sample['Dates'] >= '2025-01-01') & (sample['Dates'] <= '2025-01-31') & (sample['Fin_Transaction'] == 'Expense')]
feb = sample[(sample['Dates'] >= '2025-02-01') & (sample['Dates'] <= '2025-02-28') & (sample['Fin_Transaction'] == 'Expense')]
mar = sample[(sample['Dates'] >= '2025-03-01') & (sample['Dates'] <= '2025-03-31') & (sample['Fin_Transaction'] == 'Expense')]
q1 = sample[(sample['Dates'] >= '2025-01-01') & (sample['Dates'] <= '2025-03-31') & (sample['Fin_Transaction'] == 'Expense')]

dfs = {'January': jan, 'February':feb, 'March':mar, 'Q1':q1}
for month, df in dfs.items():
    print(month)
    display(df)











#  DISPLAY COLUMNS #
sample.columns





print(f'Unique Values for Fin_Transaction: {sample['Fin_Transaction'].unique()}')
print(f'Number of Unique Values for Fin_Transaction: { sample['Fin_Transaction'].nunique()}')


print(f'Unique Values for Assets: {sample['Assets'].unique()}')
print(f'Number of Unique Values for Assets: { sample['Assets'].nunique()}')


print(f'Unique Values for Category: {sample['Category'].unique()}')
print(f'Number of Unique Values for Category: { sample['Category'].nunique()}')





## --- Code will gradually change per Quarter --- ##
# Months for Quarter 1
months_q1 = [month for month, data in dfs.items()][0:3]
# Creating our Monthly Expense
month_sum = [data['Amount'].sum() for data in dfs.values()]





q1.describe()


plt.figure(figsize=(8.5,5))
plt.grid(axis='y', linestyle='--', alpha=1)


bars = plt.bar(months_q1, month_sum[0:3], color= ['#003049', '#d62828', '#f77f00'])
for bar in bars:
    height = bar.get_height()
    plt.text(bar.get_x() + bar.get_width()/2., height,
             f'Php{height:,.0f}',
             ha='center', va='bottom', fontsize=10)
plt.title('Total Expenses per Month (Q1 2025)')
plt.ylabel('Total Expenses')


# cat_total = q1.groupby(['Months', 'Category'])['Amount'].sum().unstack()

# cat_total.plot(kind='bar', stacked=True, figsize=(10,6))
# plt.grid(axis='y', linestyle='--', alpha=1)
# plt.title('Expenses by Category per Month (Q1 2025)')
# plt.ylabel('Total Expenses')
# plt.legend(title="Category", bbox_to_anchor=(1,1))





cat_total = q1.groupby(['Months', 'Category'])['Amount'].sum().unstack()

df_melt = cat_total.reset_index().melt(
    id_vars='Months', 
    var_name='Category', 
    value_name='Amount'
)

fig = px.bar(
    df_melt,
    x='Months',
    y='Amount',
    color='Category',
    title='<b>Expenses by Category per Month (Q1 2025)</b>',
    labels={'Amount': 'Total Expenses (Php)', 'Months': 'Month'},
    text_auto=',.0f',  
    barmode='stack',
    color_discrete_sequence=px.colors.qualitative.Pastel)

fig.update_layout(
    title_x=0.5,
    title_font_size=20,
    xaxis=dict(
        title_font=dict(size=14),
        tickfont=dict(size=12),
        categoryorder='array'
    ),
    yaxis=dict(
        title_font=dict(size=14),
        tickfont=dict(size=12),
        gridcolor='lightgray',
        gridwidth=0.5,
        tickprefix='Php ',
        separatethousands=True
    ),
    legend=dict(
        title_text='Category',
        orientation='v',
        yanchor='top',
        y=1,
        xanchor='left',
        x=1.05,
        font=dict(size=12)
    ),
    hoverlabel=dict(
        bgcolor='white',
        font_size=12
    ),
    margin=dict(r=150),
    plot_bgcolor='white',
    width=1000,
    height=600,
)

fig.update_traces(
    hovertemplate='<b>Month</b>: %{x}<br>' +
                  '<b>Category</b>: %{fullData.name}<br>' +
                  '<b>Amount</b>: Php %{y:,.0f}<extra></extra>'
)

# Optional: Add annotations for total monthly amounts
for month in df_melt['Months'].unique():
    total = df_melt[df_melt['Months'] == month]['Amount'].sum()
    fig.add_annotation(
        x=month,
        y=total + (total * 0.05),  # Position above bar
        text=f'Php {total:,.0f}',
        showarrow=False,
        font=dict(size=12)
    )

fig.show()





# q1.sort_values(['Amount'], ascending=False)#.groupby(['Category'])
top_cat = df_melt.groupby(['Category']).sum()
top_cat.reset_index(inplace=True)
top_cat








q1_groc = q1[q1['Category'].str.contains('Groc')]
q1_groc


q1_groc.describe()


q1_grocAvg = q1_groc['Amount'].mean()
print(f'Q1 Average Expense for Grocery : ₱{q1_grocAvg.round()}')
