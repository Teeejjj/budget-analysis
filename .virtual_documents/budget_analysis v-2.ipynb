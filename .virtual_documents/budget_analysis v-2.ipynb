





import pandas as pd
import numpy as np
from sqlalchemy import create_engine
import re

import matplotlib.pyplot as plt
import seaborn as sns

from datetime import date, time, timedelta, datetime
from dateutil.relativedelta import relativedelta

import warnings
warnings.filterwarnings('ignore')
pd.set_option('display.max_columns', None)





try:
    conn = create_engine('sqlite:///money_android.sqlite')
    try:
        display(pd.read_sql('SELECT name AS tables FROM sqlite_master WHERE type="table"', conn))
    except Exception as e:
        print(f'Error Retrieving data: {e}')
except Exception as e:
    print(f'Database connection fail : {e}')


# pd.read_sql('select * from INOUTCOME', conn)





bdgt_tbl = pd.read_sql('select * from INOUTCOME', conn)
cat_tbl = pd.read_sql('select * from ZCATEGORY', conn)
asset_tbl = pd.read_sql('select * from ASSETS', conn)

display(bdgt_tbl, cat_tbl, asset_tbl)


# bdgt_tbl[bdgt_tbl['DO_TYPE']=='0']
# bdgt_tbl['DO_TYPE'].unique()





# --- Mapping the categories and assets -- #
cat_dict = dict(zip(cat_tbl['uid'], cat_tbl['NAME']))
asset_dict = dict(zip(asset_tbl['uid'], asset_tbl['NIC_NAME']))
do_dict = {'0':'Income', '1':'Expense', '3':'Transfer From', '4':'Transfer To'}

bdgt_tbl['Category'] = bdgt_tbl['ctgUid'].map(cat_dict)
bdgt_tbl['Assets'] = bdgt_tbl['assetUid'].map(asset_dict)
bdgt_tbl['Fin_Transaction'] = bdgt_tbl['DO_TYPE'].map(do_dict)


final_bdg = bdgt_tbl[['uid', 'Fin_Transaction', 'Assets', 'Category', 'ZCONTENT', 'WDATE', 'IN_ZMONEY']]
final_bdg.rename(columns= {'ZCONTENT':'Notes', 'WDATE':'Dates', 'IN_ZMONEY':'Amount'}, inplace=True)





final_bdg.info()


final_bdg


# final_bdg[final_bdg['DO_TYPE'] == '3']





def convert_dtype(df):
    df['Dates'] = pd.to_datetime(df['Dates'], format="%Y-%m-%d", errors='coerce')
    df['Amount'] = df.Amount.astype(float)
    return df
def preprocess(df):
    # --- Converting empty spaces to None --- #
    df = df.applymap(lambda x: x.strip() if isinstance(x, str) and x.strip() != '' else (None if isinstance(x, str) else x))
    # --- Textual Cleaning --- # 
    def remove_emojis(textdata):
        if isinstance(textdata, str):
            emoji_pattern = re.compile(
                "["
                u"\U0001F600-\U0001F64F"  # emoticons
                u"\U0001F300-\U0001F5FF"  # symbols & pictographs
                u"\U0001F680-\U0001F6FF"  # transport & map symbols
                u"\U0001F1E0-\U0001F1FF"  # flags (iOS)
                "]+",
                flags=re.UNICODE)
            return emoji_pattern.sub(r'', textdata)
        return textdata
    df['Category'] = df['Category'].apply(remove_emojis)
    return df


sample = final_bdg.copy(deep = True)
 
sample = convert_dtype(sample)
sample = preprocess(sample)
sample.sort_values('Dates', inplace=True)
display(sample.info(), sample)


jan = sample[(sample['Dates'] >= '2025-01-01') & (sample['Dates'] <= '2025-01-31') & (sample['Fin_Transaction'] == 'Expense')]
feb = sample[(sample['Dates'] >= '2025-02-01') & (sample['Dates'] <= '2025-02-28') & (sample['Fin_Transaction'] == 'Expense')]
mar = sample[(sample['Dates'] >= '2025-03-01') & (sample['Dates'] <= '2025-03-31') & (sample['Fin_Transaction'] == 'Expense')]
q1 = sample[(sample['Dates'] >= '2025-01-01') & (sample['Dates'] <= '2025-03-31') & (sample['Fin_Transaction'] == 'Expense')]

dfs = {'January': jan, 'February':feb, 'March':mar, 'Q1':q1}
for month, df in dfs.items():
    print(month)
    display(df)





## --- Code will gradually change per Quarter --- ##
# Months for Quarter 1
months_q1 = [month for month, data in dfs.items()][0:3]
# Creating our Monthly Expense
month_sum = [data['Amount'].sum() for data in dfs.values()]








plt.figure(figsize=(8.5,5))
plt.grid(axis='y', linestyle='--', alpha=1)
bars = plt.bar(months_q1, month_sum[0:3], color= ['#003049', '#d62828', '#f77f00'])
for bar in bars:
    height = bar.get_height()
    plt.text(bar.get_x() + bar.get_width()/2., height,
             f'Php{height:,.0f}',
             ha='center', va='bottom', fontsize=10)
plt.title('Total Expenses per Month (Q1 2025)')
plt.ylabel('Total Expenses')



